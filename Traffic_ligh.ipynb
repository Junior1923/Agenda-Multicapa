{
  "nbformat": 4,
  "nbformat_minor": 0,
  "metadata": {
    "colab": {
      "provenance": [],
      "authorship_tag": "ABX9TyNXlOuvON8zvDA/gyBmRaDm",
      "include_colab_link": true
    },
    "kernelspec": {
      "name": "python3",
      "display_name": "Python 3"
    },
    "language_info": {
      "name": "python"
    }
  },
  "cells": [
    {
      "cell_type": "markdown",
      "metadata": {
        "id": "view-in-github",
        "colab_type": "text"
      },
      "source": [
        "<a href=\"https://colab.research.google.com/github/Junior1923/Agenda-Multicapa/blob/master/Traffic_ligh.ipynb\" target=\"_parent\"><img src=\"https://colab.research.google.com/assets/colab-badge.svg\" alt=\"Open In Colab\"/></a>"
      ]
    },
    {
      "cell_type": "code",
      "execution_count": 2,
      "metadata": {
        "id": "5LkPglRNKK2p",
        "colab": {
          "base_uri": "https://localhost:8080/"
        },
        "outputId": "53ecc78e-a39e-40b7-877a-21fe3160d948"
      },
      "outputs": [
        {
          "output_type": "stream",
          "name": "stdout",
          "text": [
            "1\n",
            "4 r\n",
            "ryyg\n",
            "3\n"
          ]
        }
      ],
      "source": [
        "def min_seconds(n, c, s):\n",
        "    # Encuentra los índices de los colores actual y verde en la cadena.\n",
        "    indice_actual = s.index(c)\n",
        "    indice_verde = s.index('g')\n",
        "\n",
        "    # Calcula la diferencia entre los índices.\n",
        "    tiempo_hasta_verde = indice_verde - indice_actual\n",
        "\n",
        "    # Si la diferencia es no negativa, agrega la longitud de la cadena para tener en cuenta el ciclo.\n",
        "    if tiempo_hasta_verde >= 0:\n",
        "        return tiempo_hasta_verde\n",
        "    else:\n",
        "        return tiempo_hasta_verde + n\n",
        "\n",
        "# Lee el número de casos de prueba.\n",
        "t = int(input())\n",
        "\n",
        "# Procesa cada caso de prueba.\n",
        "for _ in range(t):\n",
        "    n, c = input().split()\n",
        "    s = input().strip()\n",
        "    n = int(n)\n",
        "\n",
        "    # Calcula e imprime el resultado para cada caso de prueba.\n",
        "    resultado = min_seconds(n, c, s)\n",
        "    print(resultado)\n"
      ]
    }
  ]
}